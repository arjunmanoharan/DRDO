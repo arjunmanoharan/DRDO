{
 "cells": [
  {
   "cell_type": "markdown",
   "metadata": {},
   "source": [
    "# Four Room Gridworld"
   ]
  },
  {
   "cell_type": "markdown",
   "metadata": {},
   "source": [
    "The objective is to navigate from anywhere in the grid to the top leftmost cell in the gridworld. Agent learns a policy using Value Iteration.  "
   ]
  },
  {
   "cell_type": "code",
   "execution_count": 1,
   "metadata": {
    "collapsed": true
   },
   "outputs": [],
   "source": [
    "import numpy as np\n",
    "import pprint\n",
    "import sys\n",
    "import matplotlib.pyplot as plt\n",
    "if \"../\" not in sys.path:\n",
    "  sys.path.append(\"../\") \n",
    "from gridworld import GridworldEnv"
   ]
  },
  {
   "cell_type": "markdown",
   "metadata": {},
   "source": [
    "The environment is defined in the below block. The maze is of 13x13 size. Each room has one door using which the agent can exit that correspoinding room. The environment is assumed to be deterministic. The Yellow colored spot is the final goal and the light Blue colored pixels are the walls. "
   ]
  },
  {
   "cell_type": "code",
   "execution_count": 2,
   "metadata": {},
   "outputs": [
    {
     "data": {
      "text/plain": [
       "<matplotlib.image.AxesImage at 0x7fd8958f62e8>"
      ]
     },
     "execution_count": 2,
     "metadata": {},
     "output_type": "execute_result"
    },
    {
     "data": {
      "image/png": "[encoded data removed]",
      "text/plain": [
       "<Figure size 432x288 with 1 Axes>"
      ]
     },
     "metadata": {
      "needs_background": "light"
     },
     "output_type": "display_data"
    }
   ],
   "source": [
    "#pp = pprint.PrettyPrinter(indent=2)\n",
    "env = GridworldEnv()\n",
    "plt.imshow(env.grid)"
   ]
  },
  {
   "cell_type": "code",
   "execution_count": null,
   "metadata": {
    "collapsed": true
   },
   "outputs": [],
   "source": [
    "This block defines the whole algorithm. The algorithm runs for 'count' number of times or till the change in the policy is too less."
   ]
  },
  {
   "cell_type": "code",
   "execution_count": null,
   "metadata": {
    "collapsed": true
   },
   "outputs": [],
   "source": [
    "def value_iteration(env, theta=0.1, discount_factor=0.99):\n",
    "    \"\"\"\n",
    "    Value Iteration Algorithm.\n",
    "    \n",
    "    Args:\n",
    "        env: OpenAI env. env.P represents the transition probabilities of the environment.\n",
    "            env.P[s][a] is a list of transition tuples (prob, next_state, reward, done).\n",
    "            env.nS is a number of states in the environment. \n",
    "            env.nA is a number of actions in the environment.\n",
    "        theta: We stop evaluation once our value function change is less than theta for all states.\n",
    "        discount_factor: Gamma discount factor.\n",
    "        \n",
    "    Returns:\n",
    "        A tuple (policy, V) of the optimal policy and the optimal value function.\n",
    "    \"\"\"\n",
    "    \n",
    "    def one_step_lookahead(state, V):\n",
    "        \"\"\"\n",
    "        Helper function to calculate the value for all action in a given state.\n",
    "        \n",
    "        Args:\n",
    "            state: The state to consider (int)\n",
    "            V: The value to use as an estimator, Vector of length env.nS\n",
    "        \n",
    "        Returns:\n",
    "            A vector of length env.nA containing the expected value of each action.\n",
    "        \"\"\"\n",
    "        #-----------------------------------TO BE IMPLEMENTED BY PARTICIPANTS------------------------#\n",
    "        A = np.zeros(env.nA)\n",
    "        for a in range(env.nA):\n",
    "            for prob, next_state, reward, done in env.P[state][a]:\n",
    "                A[a] += prob * (reward + discount_factor * V[next_state])    \n",
    "        #----------------------------------------------------------------------------------------------#\n",
    "        \n",
    "        return A\n",
    "    \n",
    "    V = np.zeros(env.nS)\n",
    "    count = 0;\n",
    "    while True:\n",
    "        #-----------------------------------TO BE IMPLEMENTED BY PARTICIPANTS------------------------#\n",
    "        # Stopping condition\n",
    "        delta = 0\n",
    "        # Update each state...\n",
    "        for s in range(env.nS):\n",
    "            # Do a one-step lookahead to find the best action\n",
    "            A = one_step_lookahead(s, V)            \n",
    "            best_action_value = np.max(A)\n",
    "            # Calculate delta across all states seen so far            \n",
    "            delta = max(delta, np.abs(best_action_value - V[s]))\n",
    "            \n",
    "            # Update the value function. Ref: Sutton book eq. 4.10. \n",
    "            V[s] = best_action_value        \n",
    "        # Check if we can stop \n",
    "        count += 1        \n",
    "        if delta <= theta or count == 20:\n",
    "            break\n",
    "        #----------------------------------------------------------------------------------------------#\n",
    "    \n",
    "    # Create a deterministic policy using the optimal value function\n",
    "    policy = np.zeros([env.nS, env.nA])\n",
    "    \n",
    "    for s in range(env.nS):\n",
    "        # One step lookahead to find the best action for this state\n",
    "        A = one_step_lookahead(s, V)\n",
    "        #print(\"s=\",s,\"A=\",A)\n",
    "        best_action = np.argmax(A)\n",
    "        # Always take the best action\n",
    "        policy[s, best_action] = 1.0\n",
    "    \n",
    "    return policy, V\n",
    "\n"
   ]
  },
  {
   "cell_type": "markdown",
   "metadata": {},
   "source": [
    "This block is the trigger code. At the end of this section policy along with value function is being displayed over the entire grid. The value of a state is represented as a heat map. Note that the value of states near the goal state is high and it gradually decreases as we move to away from the goal."
   ]
  },
  {
   "cell_type": "code",
   "execution_count": 34,
   "metadata": {},
   "outputs": [
    {
     "name": "stdout",
     "output_type": "stream",
     "text": [
      "\n",
      "\n"
     ]
    },
    {
     "data": {
      "image/png": "[encoded data removed]",
      "text/plain": [
       "<Figure size 432x288 with 2 Axes>"
      ]
     },
     "metadata": {
      "needs_background": "light"
     },
     "output_type": "display_data"
    }
   ],
   "source": [
    "policy, v = value_iteration(env)\n",
    "\n",
    "# print(\"Policy Probability Distribution:\")\n",
    "# print(policy)\n",
    "print(\"\")\n",
    "action = np.argmax(policy,1)\n",
    "mat = -1*np.load('layout.npy')\n",
    "#plt.imshow(mat)\n",
    "\n",
    "\n",
    "# plt.savefig('direc.png')\n",
    "\n",
    "\n",
    "ax = plt.axes()\n",
    "for s in range(104):   \n",
    "    t = env.tocell[s]\n",
    "    mat[t] = v[s] \n",
    "    #print(v[s])\n",
    "\n",
    "ax = plt.axes()\n",
    "for s in range(104):   \n",
    "    \n",
    "    cell = env.tocell[s]\n",
    "    y, x = cell\n",
    "    dy, dx = env.directions[action[s]]*0.5\n",
    "    ax.arrow(x-0.5*dx, y-0.5*dy, dx, dy, head_width = 0.2, fc = 'k', ec = 'k')\n",
    "    \n",
    "plt.imshow(mat)\n",
    "plt.clim(np.min(v)-10,np.max(v))\n",
    "plt.colorbar()\n",
    "#plt.savefig('heat.png')\n",
    "\n",
    "\n",
    "# print(\"Reshaped Grid Policy (0=up, 1=right, 2=down, 3=left):\")\n",
    "# print(np.reshape(np.argmax(policy, axis=1), env.shape))\n",
    "# print(\"\")\n",
    "\n",
    "# print(\"Value Function:\")\n",
    "# print(v)\n",
    "# print(\"\")\n",
    "\n",
    "# print(\"Reshaped Grid Value Function:\")\n",
    "# print(v.reshape(env.shape))\n",
    "print(\"\")"
   ]
  },
  {
   "cell_type": "code",
   "execution_count": null,
   "metadata": {
    "collapsed": true
   },
   "outputs": [],
   "source": []
  }
 ],
 "metadata": {
  "anaconda-cloud": {},
  "kernelspec": {
   "display_name": "env",
   "language": "python",
   "name": "env"
  },
  "language_info": {
   "codemirror_mode": {
    "name": "ipython",
    "version": 3
   },
   "file_extension": ".py",
   "mimetype": "text/x-python",
   "name": "python",
   "nbconvert_exporter": "python",
   "pygments_lexer": "ipython3",
   "version": "3.6.8"
  }
 },
 "nbformat": 4,
 "nbformat_minor": 1
}
